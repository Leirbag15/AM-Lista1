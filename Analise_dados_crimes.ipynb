{
  "nbformat": 4,
  "nbformat_minor": 0,
  "metadata": {
    "colab": {
      "provenance": [],
      "authorship_tag": "ABX9TyO628h1gKEL5gGQCzg3GZXR",
      "include_colab_link": true
    },
    "kernelspec": {
      "name": "python3",
      "display_name": "Python 3"
    },
    "language_info": {
      "name": "python"
    }
  },
  "cells": [
    {
      "cell_type": "markdown",
      "metadata": {
        "id": "view-in-github",
        "colab_type": "text"
      },
      "source": [
        "<a href=\"https://colab.research.google.com/github/Leirbag15/ML-2023-Gabriel-Bezerra-Araujo/blob/main/Analise_dados_crimes.ipynb\" target=\"_parent\"><img src=\"https://colab.research.google.com/assets/colab-badge.svg\" alt=\"Open In Colab\"/></a>"
      ]
    },
    {
      "cell_type": "code",
      "source": [
        "import pandas as pd"
      ],
      "metadata": {
        "id": "ZLmS9g0wVFvM"
      },
      "execution_count": null,
      "outputs": []
    },
    {
      "cell_type": "code",
      "execution_count": 8,
      "metadata": {
        "id": "0a5y8cLHUJNx"
      },
      "outputs": [],
      "source": [
        "dados = pd.read_csv('MorteSuspeita_2013_2022.csv', sep = ',')"
      ]
    },
    {
      "cell_type": "code",
      "source": [
        "dados.rename(columns = {'MÊS ESTATISTICA' : 'MES ESTATISTICA'}, inplace = True)"
      ],
      "metadata": {
        "id": "cqf23uxRX9AI"
      },
      "execution_count": 9,
      "outputs": []
    },
    {
      "cell_type": "code",
      "source": [
        "dados.head()"
      ],
      "metadata": {
        "colab": {
          "base_uri": "https://localhost:8080/",
          "height": 35
        },
        "id": "xc9Kce1wX-MC",
        "outputId": "34009036-f475-43f1-85f4-e2061617874d"
      },
      "execution_count": null,
      "outputs": [
        {
          "output_type": "execute_result",
          "data": {
            "text/plain": [
              "'departamento_circunscricao'"
            ],
            "application/vnd.google.colaboratory.intrinsic+json": {
              "type": "string"
            }
          },
          "metadata": {},
          "execution_count": 36
        }
      ]
    },
    {
      "cell_type": "code",
      "source": [
        "#dados.columns = dados.columns.str.lower()\n",
        "dados.columns = dados.columns.str.lower().str.replace(' ', '_')"
      ],
      "metadata": {
        "id": "9InnVfHAbcin"
      },
      "execution_count": 10,
      "outputs": []
    },
    {
      "cell_type": "code",
      "source": [
        "dados.columns"
      ],
      "metadata": {
        "colab": {
          "base_uri": "https://localhost:8080/"
        },
        "id": "4YjTfDAvcf3m",
        "outputId": "5962e35f-4dd3-46d7-af8a-2a6fc98ed358"
      },
      "execution_count": 11,
      "outputs": [
        {
          "output_type": "execute_result",
          "data": {
            "text/plain": [
              "Index(['departamento_circunscricao', 'seccional_circunscricao',\n",
              "       'municipio_circunscricao', 'dp_circunscricao_', 'id_delegacia',\n",
              "       'mes_estatistica', 'ano_estatistica', 'datahora_registro_bo', 'num_bo',\n",
              "       'ano_bo', 'municipio_elaboracao', 'dp_elaboracao', 'sec_elaboracao',\n",
              "       'dep_elaboracao', 'data_fato', 'hora_fato', 'descr_periodo',\n",
              "       'desc_tipolocal', 'logradouro', 'numero_logradouro', 'latitude',\n",
              "       'longitude', 'tipo_pessoa', 'sexo_pessoa', 'idade_pessoa',\n",
              "       'data_nascimento_pessoa', 'cor_pele', 'profissao', 'natureza_apurada',\n",
              "       'desdobramento'],\n",
              "      dtype='object')"
            ]
          },
          "metadata": {},
          "execution_count": 11
        }
      ]
    },
    {
      "cell_type": "code",
      "source": [],
      "metadata": {
        "id": "_3DNfuPch4Rx"
      },
      "execution_count": null,
      "outputs": []
    },
    {
      "cell_type": "code",
      "source": [
        "#tirar espaço das colunas mes e ano estatistica\n",
        "dados.municipio_elaboracao.unique()"
      ],
      "metadata": {
        "id": "uL9Gh50xUCyd"
      },
      "execution_count": null,
      "outputs": []
    },
    {
      "cell_type": "code",
      "source": [
        "#dados.departamento_circunscricao = dados.departamento_circunscricao.str.lower()\n",
        "#dados.departamento_circunscricao.str.replace('ã','a')\n",
        "#dados.departamento_circunscricao.unique()\n",
        "#\n",
        "#dados.seccional_circunscricao = dados.seccional_circunscricao.str.lower()\n",
        "#dados.seccional_circunscricao = dados.seccional_circunscricao.str.replace('ã','a')\n",
        "#dados.seccional_circunscricao = dados.seccional_circunscricao.str.replace('á','a')\n",
        "#dados.seccional_circunscricao = dados.seccional_circunscricao.str.replace('é','e')\n",
        "#dados.municipio_circunscricao = dados.municipio_circunscricao.str.replace('ê','e')\n",
        "#dados.seccional_circunscricao = dados.seccional_circunscricao.str.replace('ú','u')\n",
        "#dados.seccional_circunscricao = dados.seccional_circunscricao.str.replace('ó','o')\n",
        "#dados.seccional_circunscricao = dados.seccional_circunscricao.str.replace('õ','o')\n",
        "#dados.seccional_circunscricao = dados.seccional_circunscricao.str.replace('í','i')\n",
        "#dados.municipio_circunscricao = dados.municipio_circunscricao.str.replace('ç','c')\n",
        "\n",
        "\n",
        "#dados.seccional_circunscricao.unique()\n",
        "\n",
        "#dados.municipio_circunscricao = dados.municipio_circunscricao.str.lower()\n",
        "#dados.municipio_circunscricao = dados.municipio_circunscricao.str.replace('ã','a')\n",
        "#dados.municipio_circunscricao = dados.municipio_circunscricao.str.replace('á','a')\n",
        "#dados.municipio_circunscricao = dados.municipio_circunscricao.str.replace('é','e')\n",
        "#dados.municipio_circunscricao = dados.municipio_circunscricao.str.replace('ê','e')\n",
        "#dados.municipio_circunscricao = dados.municipio_circunscricao.str.replace('ú','u')\n",
        "#dados.municipio_circunscricao = dados.municipio_circunscricao.str.replace('ó','o')\n",
        "#dados.municipio_circunscricao = dados.municipio_circunscricao.str.replace('õ','o')\n",
        "#dados.municipio_circunscricao = dados.municipio_circunscricao.str.replace('í','i')\n",
        "#dados.municipio_circunscricao = dados.municipio_circunscricao.str.replace('ç','c')\n",
        "\n",
        "\n",
        "#dados.municipio_circunscricao.unique()\n",
        "#\n",
        "#dados.dp_circunscricao_ = dados.dp_circunscricao_.str.lower()\n",
        "#dados.dp_circunscricao_ = dados.dp_circunscricao_.str.replace('ã','a')\n",
        "#dados.dp_circunscricao_ = dados.dp_circunscricao_.str.replace('á','a')\n",
        "#dados.dp_circunscricao_ = dados.dp_circunscricao_.str.replace('é','e')\n",
        "#dados.dp_circunscricao_ = dados.dp_circunscricao_.str.replace('ê','e')\n",
        "#dados.dp_circunscricao_ = dados.dp_circunscricao_.str.replace('ú','u')\n",
        "#dados.dp_circunscricao_ = dados.dp_circunscricao_.str.replace('ó','o')\n",
        "#dados.dp_circunscricao_ = dados.dp_circunscricao_.str.replace('õ','o')\n",
        "#dados.dp_circunscricao_ = dados.dp_circunscricao_.str.replace('í','i')\n",
        "#dados.dp_circunscricao_ = dados.dp_circunscricao_.str.replace('ç','c')\n",
        "\n",
        "\n",
        "\n",
        "#dados.dp_circunscricao_.unique()\n",
        "#\n",
        "#dados.id_delegacia.unique()\n",
        "\n",
        "#\n",
        "#dados.mes_estatistica.unique()\n",
        "#\n",
        "#dados.ano_estatistica.unique()\n",
        "#\n",
        "#\n",
        "#dados.datahora_registro_bo.unique()\n",
        "#\n",
        "#dados.num_bo.unique()\n",
        "#\n",
        "#dados.ano_bo.unique()\n",
        "#\n",
        "#dados.municipio_elaboracao.unique()\n",
        "#dados.municipio_elaboracao = dados.municipio_elaboracao.str.lower()\n",
        "#dados.municipio_elaboracao = dados.municipio_elaboracao.str.replace('ã','a')\n",
        "#dados.municipio_elaboracao = dados.municipio_elaboracao.str.replace('á','a')\n",
        "#dados.municipio_elaboracao = dados.municipio_elaboracao.str.replace('é','e')\n",
        "#dados.municipio_elaboracao = dados.municipio_elaboracao.str.replace('ê','e')\n",
        "#dados.municipio_elaboracao = dados.municipio_elaboracao.str.replace('ú','u')\n",
        "#dados.municipio_elaboracao = dados.municipio_elaboracao.str.replace('ó','o')\n",
        "#dados.municipio_elaboracao = dados.municipio_elaboracao.str.replace('õ','o')\n",
        "#dados.municipio_elaboracao = dados.municipio_elaboracao.str.replace('í','i')\n",
        "#dados.municipio_elaboracao = dados.municipio_elaboracao.str.replace('ç','c')\n",
        "\n",
        "\n",
        "#\n",
        "#dados.dp_elaboracao = dados.dp_elaboracao.str.lower()\n",
        "#dados.dp_elaboracao = dados.dp_elaboracao.str.replace('ã','a')\n",
        "#dados.dp_elaboracao = dados.dp_elaboracao.str.replace('á','a')\n",
        "#dados.dp_elaboracao = dados.dp_elaboracao.str.replace('é','e')\n",
        "#dados.dp_elaboracao = dados.dp_elaboracao.str.replace('ê','e')\n",
        "#dados.dp_elaboracao = dados.dp_elaboracao.str.replace('ú','u')\n",
        "#dados.dp_elaboracao = dados.dp_elaboracao.str.replace('ó','o')\n",
        "#dados.dp_elaboracao = dados.dp_elaboracao.str.replace('õ','o')\n",
        "#dados.dp_elaboracao = dados.dp_elaboracao.str.replace('í','i')\n",
        "#dados.dp_elaboracao = dados.dp_elaboracao.str.replace('ç','c')\n",
        "\n",
        "\n",
        "#dados.dp_elaboracao.unique()\n",
        "#\n",
        "#dados.sec_elaboracao = dados.sec_elaboracao.str.lower()\n",
        "#dados.sec_elaboracao = dados.sec_elaboracao.str.replace('ã','a')\n",
        "#dados.sec_elaboracao = dados.sec_elaboracao.str.replace('á','a')\n",
        "#dados.sec_elaboracao = dados.sec_elaboracao.str.replace('é','e')\n",
        "#dados.sec_elaboracao = dados.sec_elaboracao.str.replace('ê','e')\n",
        "#dados.sec_elaboracao = dados.sec_elaboracao.str.replace('ú','u')\n",
        "#dados.sec_elaboracao = dados.sec_elaboracao.str.replace('ó','o')\n",
        "#dados.sec_elaboracao = dados.sec_elaboracao.str.replace('õ','o')\n",
        "#dados.sec_elaboracao = dados.sec_elaboracao.str.replace('í','i')\n",
        "#dados.sec_elaboracao = dados.sec_elaboracao.str.replace('ç','c')\n",
        "\n",
        "#dados.sec_elaboracao.unique()\n",
        "\n",
        "#dados.dep_elaboracao = dados.dep_elaboracao.str.lower()\n",
        "#dados.dep_elaboracao = dados.dep_elaboracao.str.replace('á','a')\n",
        "#dados.dep_elaboracao = dados.dep_elaboracao.str.replace('ã','a')\n",
        "#dados.dep_elaboracao = dados.dep_elaboracao.str.replace('é','e')\n",
        "#dados.dep_elaboracao = dados.dep_elaboracao.str.replace('ê','e')\n",
        "#dados.dep_elaboracao = dados.dep_elaboracao.str.replace('ú','u')\n",
        "#dados.dep_elaboracao = dados.dep_elaboracao.str.replace('ó','o')\n",
        "#dados.dep_elaboracao = dados.dep_elaboracao.str.replace('õ','o')\n",
        "#dados.dep_elaboracao = dados.dep_elaboracao.str.replace('í','i')\n",
        "#dados.dep_elaboracao = dados.dep_elaboracao.str.replace('ç','c')\n",
        "\n",
        "#dados.dep_elaboracao.unique()\n",
        "#\n",
        "#dados.data_fato.unique()\n",
        "#\n",
        "#dados.hora_fato.unique()\n",
        "#\n",
        "#dados.descr_periodo = dados.descr_periodo.str.lower()\n",
        "\n",
        "#dados.descr_periodo.unique()\n",
        "#\n",
        "#dados.desc_tipolocal = dados.desc_tipolocal.str.lower()\n",
        "#dados.desc_tipolocal = dados.desc_tipolocal.str.replace('á','a')\n",
        "#dados.desc_tipolocal = dados.desc_tipolocal.str.replace('ã','a')\n",
        "#dados.desc_tipolocal = dados.desc_tipolocal.str.replace('é','e')\n",
        "#dados.desc_tipolocal = dados.desc_tipolocal.str.replace('ê','e')\n",
        "#dados.desc_tipolocal = dados.desc_tipolocal.str.replace('ú','u')\n",
        "#dados.desc_tipolocal = dados.desc_tipolocal.str.replace('ó','o')\n",
        "#dados.desc_tipolocal = dados.desc_tipolocal.str.replace('õ','o')\n",
        "#dados.desc_tipolocal = dados.desc_tipolocal.str.replace('í','i')\n",
        "#dados.desc_tipolocal = dados.desc_tipolocal.str.replace('ç','c')\n",
        "#dados.desc_tipolocal.unique()\n",
        "\n",
        "#dados.logradouro = dados.logradouro.str.lower()\n",
        "#dados.logradouro.unique()\n",
        "#\n",
        "#dados.numero_logradouro.unique()\n",
        "#\n",
        "#dados.latitude.unique()\n",
        "#\n",
        "#dados.longitude.unique()\n",
        "#\n",
        "#dados.tipo_pessoa = dados.tipo_pessoa.str.lower()\n",
        "#dados.tipo_pessoa = dados.tipo_pessoa.str.replace('í','i')\n",
        "#dados.tipo_pessoa = dados.tipo_pessoa.str.replace('ç','c')\n",
        "#dados.tipo_pessoa.unique()\n",
        "\n",
        "\n",
        "#\n",
        "#dados.sexo_pessoa.unique()\n",
        "#\n",
        "#dados.idade_pessoa.unique()\n",
        "#\n",
        "#dados.data_nascimento_pessoa.unique()\n",
        "#\n",
        "#dados.cor_pele = dados.cor_pele.str.lower()\n",
        "#dados.cor_pele.unique()\n",
        "#\n",
        "#dados.profissao = dados.profissao.str.lower()\n",
        "#dados.profissao = dados.profissao.str.replace('ç','c')\n",
        "#dados.profissao.unique()\n",
        "#\n",
        "#dados.natureza_apurada = dados.natureza_apurada.str.lower()\n",
        "#dados.natureza_apurada.unique()\n",
        "#\n",
        "dados.desdobramento = dados.desdobramento.str.lower()\n",
        "dados.desdobramento = dados.desdobramento.str.replace('á','a')\n",
        "dados.desdobramento = dados.desdobramento.str.replace('í','i')\n",
        "dados.desdobramento = dados.desdobramento.str.replace('ú','u')\n",
        "dados.desdobramento.unique()"
      ],
      "metadata": {
        "id": "uqxFP0XMjTuH",
        "colab": {
          "base_uri": "https://localhost:8080/"
        },
        "outputId": "9993967d-24ea-40db-8a1e-d6c40110e6d4"
      },
      "execution_count": 71,
      "outputs": [
        {
          "output_type": "execute_result",
          "data": {
            "text/plain": [
              "array(['iv - morte subita ou natural', 'iii - morte acidental',\n",
              "       'ii - duvidas razoaveis quanto a suicidio ou morte provocada',\n",
              "       'i - encontro de cadaver sem lesões aparentes'], dtype=object)"
            ]
          },
          "metadata": {},
          "execution_count": 71
        }
      ]
    },
    {
      "cell_type": "code",
      "source": [],
      "metadata": {
        "id": "rFX3rLRVSl1t"
      },
      "execution_count": null,
      "outputs": []
    }
  ]
}